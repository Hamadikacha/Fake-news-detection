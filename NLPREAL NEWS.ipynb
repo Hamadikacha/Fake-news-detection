{
 "cells": [
  {
   "cell_type": "code",
   "execution_count": 1,
   "id": "3e0546c3",
   "metadata": {},
   "outputs": [],
   "source": [
    "# importer les packages \n",
    "import os\n",
    "import pandas as pd \n",
    "import matplotlib.pyplot as plt \n",
    "import seaborn as sns "
   ]
  },
  {
   "cell_type": "code",
   "execution_count": 2,
   "id": "1e463cd8",
   "metadata": {},
   "outputs": [
    {
     "name": "stdout",
     "output_type": "stream",
     "text": [
      "Al_Jazeera_news.csv\n",
      "AP_news.csv\n",
      "BBC_news.csv\n",
      "chicagosun.csv\n",
      "Financial_Times_news.csv\n",
      "huffpost.csv\n",
      "insider.csv\n",
      "nbc.csv\n",
      "NEWSJAZZIRA.csv\n",
      "new_reuters.csv\n",
      "NPR_news.csv\n",
      "NYTimes.csv\n",
      "the_atlantic_news.csv\n"
     ]
    }
   ],
   "source": [
    "#collecter notre dataset\n",
    "files =[file for file in os.listdir(r'C:\\Users\\sassi\\fake_news')]\n",
    "for file in files :\n",
    "    print(file)"
   ]
  },
  {
   "cell_type": "code",
   "execution_count": 3,
   "id": "c196f0b3",
   "metadata": {},
   "outputs": [
    {
     "data": {
      "text/html": [
       "<div>\n",
       "<style scoped>\n",
       "    .dataframe tbody tr th:only-of-type {\n",
       "        vertical-align: middle;\n",
       "    }\n",
       "\n",
       "    .dataframe tbody tr th {\n",
       "        vertical-align: top;\n",
       "    }\n",
       "\n",
       "    .dataframe thead th {\n",
       "        text-align: right;\n",
       "    }\n",
       "</style>\n",
       "<table border=\"1\" class=\"dataframe\">\n",
       "  <thead>\n",
       "    <tr style=\"text-align: right;\">\n",
       "      <th></th>\n",
       "      <th>Title</th>\n",
       "      <th>Description</th>\n",
       "      <th>Label</th>\n",
       "    </tr>\n",
       "  </thead>\n",
       "  <tbody>\n",
       "    <tr>\n",
       "      <th>0</th>\n",
       "      <td>The Georgia Indictment Offers the Whole Picture</td>\n",
       "      <td>This article was featured in One Story to Read...</td>\n",
       "      <td>1</td>\n",
       "    </tr>\n",
       "    <tr>\n",
       "      <th>1</th>\n",
       "      <td>Sam Bankman-Fried Pushed One Boundary Too Many</td>\n",
       "      <td>Updated at 1:35 p.m. ET on August 15, 2023\\n\\n...</td>\n",
       "      <td>1</td>\n",
       "    </tr>\n",
       "    <tr>\n",
       "      <th>2</th>\n",
       "      <td>Schrödinger’s Cage Match</td>\n",
       "      <td>What follows is not news.\\n\\nEarlier today, El...</td>\n",
       "      <td>1</td>\n",
       "    </tr>\n",
       "    <tr>\n",
       "      <th>3</th>\n",
       "      <td>I Turned My House into a Zero-Carbon Utopia</td>\n",
       "      <td>Last April, I decided to break up with my gas ...</td>\n",
       "      <td>1</td>\n",
       "    </tr>\n",
       "    <tr>\n",
       "      <th>4</th>\n",
       "      <td>The Greatest Pogo Stick the World Has Ever Seen</td>\n",
       "      <td>In the sweltering heat of downtown Pittsburgh,...</td>\n",
       "      <td>1</td>\n",
       "    </tr>\n",
       "  </tbody>\n",
       "</table>\n",
       "</div>"
      ],
      "text/plain": [
       "                                             Title  \\\n",
       "0  The Georgia Indictment Offers the Whole Picture   \n",
       "1   Sam Bankman-Fried Pushed One Boundary Too Many   \n",
       "2                         Schrödinger’s Cage Match   \n",
       "3      I Turned My House into a Zero-Carbon Utopia   \n",
       "4  The Greatest Pogo Stick the World Has Ever Seen   \n",
       "\n",
       "                                         Description  Label  \n",
       "0  This article was featured in One Story to Read...      1  \n",
       "1  Updated at 1:35 p.m. ET on August 15, 2023\\n\\n...      1  \n",
       "2  What follows is not news.\\n\\nEarlier today, El...      1  \n",
       "3  Last April, I decided to break up with my gas ...      1  \n",
       "4  In the sweltering heat of downtown Pittsburgh,...      1  "
      ]
     },
     "execution_count": 3,
     "metadata": {},
     "output_type": "execute_result"
    }
   ],
   "source": [
    "path=(r'C:\\Users\\sassi\\fake_news')\n",
    "#créer une base de données vide(+)pour fair concatiner tout les dtata  \n",
    "all_data=pd.DataFrame()# créer un objet base de données en en doit le remplire \n",
    "for file in files :\n",
    "    current_data=pd.read_csv(path+'/'+file)\n",
    "    data_new= pd.concat([all_data, current_data], ignore_index=True)\n",
    "\n",
    "data_new.head()"
   ]
  },
  {
   "cell_type": "code",
   "execution_count": 4,
   "id": "ab1efccd",
   "metadata": {},
   "outputs": [
    {
     "data": {
      "text/plain": [
       "(5000, 3)"
      ]
     },
     "execution_count": 4,
     "metadata": {},
     "output_type": "execute_result"
    }
   ],
   "source": [
    "data_new.shape"
   ]
  },
  {
   "cell_type": "code",
   "execution_count": 5,
   "id": "5b95fe47",
   "metadata": {},
   "outputs": [
    {
     "data": {
      "text/plain": [
       "(4981, 3)"
      ]
     },
     "execution_count": 5,
     "metadata": {},
     "output_type": "execute_result"
    }
   ],
   "source": [
    "data_new.drop_duplicates(subset='Description', inplace=True)\n",
    "data_new.shape"
   ]
  },
  {
   "cell_type": "code",
   "execution_count": 6,
   "id": "8474be20",
   "metadata": {},
   "outputs": [
    {
     "name": "stderr",
     "output_type": "stream",
     "text": [
      "[nltk_data] Downloading package omw-1.4 to\n",
      "[nltk_data]     C:\\Users\\sassi\\AppData\\Roaming\\nltk_data...\n",
      "[nltk_data]   Package omw-1.4 is already up-to-date!\n",
      "[nltk_data] Downloading package stopwords to\n",
      "[nltk_data]     C:\\Users\\sassi\\AppData\\Roaming\\nltk_data...\n",
      "[nltk_data]   Package stopwords is already up-to-date!\n",
      "[nltk_data] Downloading package punkt to\n",
      "[nltk_data]     C:\\Users\\sassi\\AppData\\Roaming\\nltk_data...\n",
      "[nltk_data]   Package punkt is already up-to-date!\n",
      "[nltk_data] Downloading package words to\n",
      "[nltk_data]     C:\\Users\\sassi\\AppData\\Roaming\\nltk_data...\n",
      "[nltk_data]   Package words is already up-to-date!\n",
      "[nltk_data] Downloading package wordnet to\n",
      "[nltk_data]     C:\\Users\\sassi\\AppData\\Roaming\\nltk_data...\n",
      "[nltk_data]   Package wordnet is already up-to-date!\n"
     ]
    }
   ],
   "source": [
    "#package nltk to claining data\n",
    "import nltk\n",
    "nltk.download('omw-1.4')\n",
    "import nltk\n",
    "import string\n",
    "from nltk.stem import WordNetLemmatizer\n",
    "nltk.download('stopwords')\n",
    "nltk.download('punkt')\n",
    "nltk.download('words')\n",
    "nltk.download('wordnet')\n",
    "stopwords = nltk.corpus.stopwords.words('english')\n",
    "words = set(nltk.corpus.words.words())\n",
    "lemmatizer = WordNetLemmatizer()"
   ]
  },
  {
   "cell_type": "code",
   "execution_count": 7,
   "id": "01cd4908",
   "metadata": {},
   "outputs": [
    {
     "data": {
      "text/plain": [
       "'In 1934, an industrialist and obsessive book collector named A. Edward Newton wrote an article for The Atlantic recounting a trip he had recently taken to see the ancient redwoods of Northern California. He had traveled by night train to the timber town of Scotia, then by motor car up into the quiet, fog-draped forest. When he finally arrived, Newton did what most writers do when faced with some of the tallest trees on Earth: He experienced a wave of awe, his brain short-circuited, and then he resorted to cliché. In the article, he likens the massive trees to “stone columns in a cathedral.” Then he quotes a line of verse from William Cullen Bryant (who was cribbing, in turn, from Pliny the Elder): “The groves were God’s first temples.” Very large and very old trees tend to have this effect on us—they deepen our souls but impoverish our wits. We can’t quite make sense of them.\\n\\n\\n\\nThe owner of that ancient forest, the Pacific Lumber Company, had recently battled with conservationists over the right to cut down a nearby swath of old-growth redwoods called Bull Creek Flat. Newton, briefly outlining this conflict in the article, seems torn between his newfound love of the redwoods, which he now regarded as “personal friends,” and his “friends of the Pacific Lumber Company,” who had “a duty toward their stockholders.” Naturally, he was relieved that a compromise had recently been struck: A cadre of wealthy individuals, most notably John D. Rockefeller Jr., had donated millions of dollars to purchase 9,000 acres of old-growth land and fold it into an existing state park. “It was a long pull and a strong pull and a pull all together, but the thing after ten years was done,” Newton writes. “The redwoods were saved and the world is the richer therefor.”\\n\\nThe author was, it probably goes without saying, wrong: The old-growth redwoods were not saved, at least not in the sense that most people today would interpret that phrase. Yes, some exemplary antique redwoods were protected in museumlike groves, but elsewhere, the majority of the old-growth-redwood ecosystem was rapidly vanishing. More worrying still, it turned out that the trees were not truly protected even in “protected” areas. This fact came thundering home in the winter of 1955, when a flood washed away a clear-cut hillside above Bull Creek Flat—the very forest Newton had deemed “saved”—killing hundreds of giant trees. The notion that we could preserve a few old redwoods without also safeguarding their ecosystem was revealed to be a cruel fantasy.\\n\\n\\n\\nAs Greg King demonstrates in his groundbreaking new book, The Ghost Forest: Racists, Radicals, and Real Estate in the California Redwoods, the history of redwood conservation—and, perhaps, the history of environmentalism itself—is a never-ending series of tempting illusions and hard-won revelations. For more than a century, as loggers continued to raze entire groves that predated the birth of Christopher Columbus (and some that predated the birth of Christ), the public was continually reassured that the trees were in the process of being, or had already been, “saved.”\\n\\nIn the mid-1980s, while working as a young newspaper reporter, King stumbled across timber companies’ plans to cut down the nation’s largest unprotected stands of old-growth redwoods. (One of those forests just happened to be a short walk from his house.) After talking with state regulators—who struck him as apathetic and ecologically misinformed—and visiting the horror show of fresh clear-cuts, he decided to quit his job, hop across the thin inky line between journalism and activism, and join the fight to save the redwoods. In the five years that followed, King climbed high into the branches of trees that were slated to be felled; he organized rallies where he was repeatedly attacked by loggers (King hit back); and, once, he was arrested for scaling the Golden Gate Bridge in order to hang a banner reading SAVE THIS PLANET. (His friends faced even graver risks: One of his fellow organizers, Judi Bari, was the victim of both a bombing and an attempt by the FBI to frame her for transporting that very bomb.)\\n\\nIf handled poorly, a history of the so-called Redwood Wars—especially when told by one of the aging activists who took part in it—could seem a bit narrow, almost quaint. (Our most urgent environmental concerns these days tend to be planetary and structural, rather than local and sylvan.) King brilliantly avoids this pitfall by expanding the scope of his book. The real story he wants to tell is an epic tale of corruption and deception, perpetrated on a mass scale for nearly a century, of which his crusade constitutes only a few chapters.\\n\\n\\n\\nThe early history of industrial redwood logging is one of outright theft: Under lax laws such as the Timber and Stone Act, which was intended to encourage new small-scale logging and mining operations, large companies routinely purchased redwood forests at steep discounts by pretending they would be used by individual homesteaders. All told, millions of acres of valuable land were stolen in this fashion.\\n\\nRead: Hunting big redwoods\\n\\nHowever, King adds a crucial missing piece to this oft-told history; he explains why that land was so valuable. Before the widespread use of steel, redwood lumber was not just any old wood. It was the very bones of industrial capitalism, at the precise moment in the 19th century when the Golden State was undergoing a growth spurt. Redwood lumber was the principal building material for entire cities, including San Francisco; it provided the most durable ties for the nascent railroad industry; and, perhaps most importantly, it could be fashioned into rot-resistant pipelines and tanks to store and transport water and petroleum. Many of these applications (especially the pipelines) required a specific type of redwood timber—the kind that could be found only in the oldest trees. But strangely, King uncovers, many of the moguls who most needed that rare lumber were the same ones who were supposedly campaigning to “save” the redwoods.\\n\\n\\n\\nThe most startling section of King’s book concerns his research into the history of the venerable Save the Redwoods League—a conservation group founded in 1918 by, and for a long time largely managed by, wealthy industrialists and prominent eugenicists (the “racists” of the book’s subtitle). Digging through a newly accessible archive containing the league’s private documents, King reports that throughout their history, rather than attempting to preserve large tracts of wild land, as they purported to do, its early members mainly focused on buying up “beauty strips” of old-growth redwoods alongside roadways and railways, which hid the sight of the other trees being liquidated. They repeatedly brokered deals that paid logging companies exorbitant amounts of money for their land—sometimes as much as four times above the estimated market value—and on at least one occasion arrived just in the nick of time to save a lumber company from bankruptcy. Meanwhile, they actively campaigned against other conservation groups who were pushing to protect larger, more intact pieces of wilderness. In doing so, King argues, the league gave industrialists exactly what they wanted: It mollified public outcry while simultaneously guaranteeing industry’s access to nature’s riches. Readers familiar with Eleanor Catton’s new novel, Birnam Wood; David O. Russell’s film I Heart Huckabees; or, really, any oil-industry ad campaign already know how this feat of corporate sleight of hand works. What’s astonishing, in the league’s case, is its duration and success. King dubs its efforts to be “the first, the largest, and the longest-lasting example” of “greenwashing” in history.\\n\\nOf course, as an activist-historian, King has learned to deftly wield illusion to his own ends as well. He elides important shifts in paradigms, such as that from classic conservationism to biocentric preservation and ecological restoration (the difference, in other words, between saving redwoods for their lumber and beauty and saving them for their own sake). He is quick to brand the league with the neat stamp of corruption, when a murkier desire for what seemed like win-win compromises was likely often at play, and he undersells its biggest accomplishments, such as the truly Herculean effort to save Bull Creek Flat. The book is also markedly light on self-examination; there is scant mention of any missteps by King and his fellow North Coast activists, nor any exploration of their (by most accounts, refreshingly labor-friendly and nuanced) environmental philosophy. For a more scholarly and evenhanded account of this same history, Darren Frederick Speece’s book, Defending Giants: The Redwood Wars and the Transformation of American Environmental Politics, is worth reading. However, I suspect that most readers will prefer King’s rendition, which, though slanted, glints with a cold, sharp light.\\n\\n\\n\\nNear its end, the tone of the book shifts to one of bittersweet ambivalence. In 1999, in a deal brokered in part by Save the Redwoods League, which was still wielding power nearly a century after its founding, the federal government paid almost half a billion dollars to the Pacific Lumber Company in exchange for just 3,000 acres of old-growth forest, which was set aside in the newly designated Headwaters Forest Reserve, as well as an additional 4,000 acres of previously logged land to act as a buffer. Though nominally a victory for King and his allies, the deal was a mere fraction of the 60,000 acres they felt were needed to protect the ecosystem. The combination of new federal and state regulations, court rulings, and public pressure over the past two decades has made the clear-cutting of ancient redwoods (mostly) a thing of the past. But the great dream of preservationists—a complete, protected watershed of ancient redwood giants—was never achieved, anywhere, and now never will be.\\n\\nMeanwhile, climate change has begun threatening the old-growth redwoods, which rely on now-inconsistent amounts of fog and rain. (Ironically enough, King writes, some of the best research into the effects of climate change on the redwoods in recent years has been funded by none other than Save the Redwoods League—a last-minute grace note for an organization that he has just finished carving apart at the joints.) In the end, after reading more than 400 pages of detailed history, fierce commentary, and taut storytelling, I came away from The Ghost Forest oddly, but—given the book’s spectral title, fittingly—mystified. Are the redwoods safe at last? Or, I wondered, are they merely apparitions, remnants of the past, soon to vanish in the new, harsh light of tomorrow?'"
      ]
     },
     "execution_count": 7,
     "metadata": {},
     "output_type": "execute_result"
    }
   ],
   "source": [
    "# remove url\n",
    "import re##permet de travailler avec des expressions régulières pour la recherche et le remplacement de motifs dans des chaînes de caractères.\n",
    "def url_limited(text):##re.sub() est utilisée pour effectuer une substitution basée sur une expression régulière.\n",
    "    return re.sub(r'http\\S+', '', text)##r'http\\S+' correspond en réalité à toute URL commençant par \"http\" ou \"https\", suivie de un ou plusieurs caractères non-blancs.Le \\S+ dans une expression régulière signifie \"un ou plusieurs caractères non-blancs\", c'est-à-dire des caractères qui ne sont pas des espaces, des tabulations ou des retours à la ligne. Cela permet de capturer les parties de URL qui ne sont pas séparées par des espaces.\n",
    "#text1 = \"http://www.google.com hello world\"\n",
    "data_new[\"Description\"]= data_new[\"Description\"].apply(url_limited)\n",
    "data_new[\"Description\"][10]\n",
    "##data_new.head()"
   ]
  },
  {
   "cell_type": "code",
   "execution_count": 21,
   "id": "eef385f6",
   "metadata": {},
   "outputs": [],
   "source": [
    "#contraction2\n",
    "# Dictionary of English contractions\n",
    "contractions_dict = { \"ain't\": \"are not\",\"'s\":\" is\",\"aren't\": \"are not\",\n",
    "                     \"can't\": \"cannot\",\"can't've\": \"cannot have\",\n",
    "                     \"'cause\": \"because\",\"could've\": \"could have\",\"couldn't\": \"could not\",\n",
    "                     \"couldn't've\": \"could not have\", \"didn't\": \"did not\",\"doesn't\": \"does not\",\n",
    "                     \"don't\": \"do not\",\"hadn't\": \"had not\",\"hadn't've\": \"had not have\",\n",
    "                     \"hasn't\": \"has not\",\"haven't\": \"have not\",\"he'd\": \"he would\",\n",
    "                     \"he'd've\": \"he would have\",\"he'll\": \"he will\", \"he'll've\": \"he will have\",\n",
    "                     \"how'd\": \"how did\",\"how'd'y\": \"how do you\",\"how'll\": \"how will\",\n",
    "                     \"i'd\": \"i would\", \"i'd've\": \"i would have\",\"i'll\": \"i will\",\n",
    "                     \"i'll've\": \"i will have\",\"i'm\": \"i am\",\"I've\": \"i have\", \"isn't\": \"is not\",\n",
    "                     \"it'd\": \"it would\",\"it'd've\": \"it would have\",\"it'll\": \"it will\",\n",
    "                     \"it'll've\": \"it will have\", \"let's\": \"let us\",\"ma'am\": \"madam\",\n",
    "                     \"mayn't\": \"may not\",\"might've\": \"might have\",\"mightn't\": \"might not\",\n",
    "                     \"mightn't've\": \"might not have\",\"must've\": \"must have\",\"mustn't\": \"must not\",\n",
    "                     \"mustn't've\": \"must not have\", \"needn't\": \"need not\",\n",
    "                     \"needn't've\": \"need not have\",\"o'clock\": \"of the clock\",\"oughtn't\": \"ought not\",\n",
    "                     \"oughtn't've\": \"ought not have\",\"shan't\": \"shall not\",\"sha'n't\": \"shall not\",\n",
    "                     \"shan't've\": \"shall not have\",\"she'd\": \"she would\",\"she'd've\": \"she would have\",\n",
    "                     \"she'll\": \"she will\", \"she'll've\": \"she will have\",\"should've\": \"should have\",\n",
    "                     \"shouldn't\": \"should not\", \"shouldn't've\": \"should not have\",\"so've\": \"so have\",\n",
    "                     \"that'd\": \"that would\",\"that'd've\": \"that would have\", \"there'd\": \"there would\",\n",
    "                     \"there'd've\": \"there would have\", \"they'd\": \"they would\",\n",
    "                     \"they'd've\": \"they would have\",\"they'll\": \"they will\",\n",
    "                     \"they'll've\": \"they will have\", \"they're\": \"they are\",\"they've\": \"they have\",\n",
    "                     \"to've\": \"to have\",\"wasn't\": \"was not\",\"we'd\": \"we would\",\n",
    "                     \"we'd've\": \"we would have\",\"we'll\": \"we will\",\"we'll've\": \"we will have\",\n",
    "                     \"we're\": \"we are\",\"we've\": \"we have\", \"weren't\": \"were not\",\"what'll\": \"what will\",\n",
    "                     \"what'll've\": \"what will have\",\"what're\": \"what are\", \"what've\": \"what have\",\n",
    "                     \"when've\": \"when have\",\"where'd\": \"where did\", \"where've\": \"where have\",\n",
    "                     \"who'll\": \"who will\",\"who'll've\": \"who will have\",\"who've\": \"who have\",\n",
    "                     \"why've\": \"why have\",\"will've\": \"will have\",\"won't\": \"will not\",\n",
    "                     \"won't've\": \"will not have\", \"would've\": \"would have\",\"wouldn't\": \"would not\",\n",
    "                     \"wouldn't've\": \"would not have\",\"y'all\": \"you all\", \"y'all'd\": \"you all would\",\n",
    "                     \"y'all'd've\": \"you all would have\",\"y'all're\": \"you all are\",\n",
    "                     \"y'all've\": \"you all have\", \"you'd\": \"you would\",\"you'd've\": \"you would have\",\n",
    "                     \"you'll\": \"you will\",\"you'll've\": \"you will have\", \"you're\": \"you are\",\n",
    "                     \"you've\": \"you have\",\"he's\":\"he is\",\"Newton\":\"N\"}"
   ]
  },
  {
   "cell_type": "code",
   "execution_count": 25,
   "id": "7dbf9021",
   "metadata": {},
   "outputs": [
    {
     "name": "stdout",
     "output_type": "stream",
     "text": [
      "you will and.§!\n"
     ]
    }
   ],
   "source": [
    "contractions_re=re.compile('(%s)' % '|'.join(contractions_dict.keys()))\n",
    "# Function for expanding contractions\n",
    "def expand_contractions(text,contractions_dict=contractions_dict):\n",
    "    def replace(match):\n",
    "        return contractions_dict[match.group(0)]\n",
    "    return contractions_re.sub(replace, text)\n",
    "x=\"you'll and\"\n",
    "print(expand_contractions(x))\n",
    "data_new[\"Description\"]= data_new[\"Description\"].apply(expand_contractions)\n",
    "    "
   ]
  },
  {
   "cell_type": "code",
   "execution_count": 23,
   "id": "74f75f5a",
   "metadata": {},
   "outputs": [
    {
     "data": {
      "text/plain": [
       "'1934 industrialist obsess book collector name edward newton wrote articl atlant recount trip recent taken see ancient redwood northern california travel night train timber town scotia motor car quiet fog drape forest final arriv newton writer face tallest tree earth experienc wave awe brain short circuit resort cliché articl liken massiv tree stone column cathedr quot line vers william cullen bryant crib turn plini elder grove god first templ larg old tree tend effect us deepen soul impoverish wit quit make sens owner ancient forest pacif lumber compani recent battl conservationist right cut nearbi swath old growth redwood call bull creek flat newton briefli outlin conflict articl seem torn newfound love redwood regard person friend friend pacif lumber compani duti toward stockhold natur reliev compromis recent struck cadr wealthi individu notabl john rockefel jr donat million dollar purchas 9 000 acr old growth land fold exist state park long pull strong pull pull togeth thing ten year done newton write redwood save world richer therefor author probabl goe without say wrong old growth redwood save least sens peopl today would interpret phrase ye exemplari antiqu redwood protect museumlik grove elsewher major old growth redwood ecosystem rapidli vanish worri still turn tree truli protect even protect area fact came thunder home winter 1955 flood wash away clear cut hillsid bull creek flat forest newton deem save kill hundr giant tree notion could preserv old redwood without also safeguard ecosystem reveal cruel fantasi greg king demonstr groundbreak new book ghost forest racist radic real estat california redwood histori redwood conserv perhap histori environment never end seri tempt illus hard revel centuri logger continu raze entir grove predat birth christoph columbu predat birth christ public continu reassur tree process alreadi save mid 1980 work young newspap report king stumbl across timber compani plan cut nation largest unprotect stand old growth redwood one forest happen short walk hous talk state regul struck apathet ecolog misinform visit horror show fresh clear cut decid quit job hop across thin inki line journal activ join fight save redwood five year follow king climb high branch tree slate fell organ ralli repeatedli attack logger king hit back arrest scale golden gate bridg order hang banner read save planet friend face even graver risk one fellow organ judi bari victim bomb attempt fbi frame transport bomb handl poorli histori call redwood war especi told one age activist took part could seem bit narrow almost quaint urgent environment concern day tend planetari structur rather local sylvan king brilliantli avoid pitfal expand scope book real stori want tell epic tale corrupt decept perpetr mass scale nearli centuri crusad constitut chapter earli histori industri redwood log one outright theft lax law timber stone act intend encourag new small scale log mine oper larg compani routin purchas redwood forest steep discount pretend would use individu homestead told million acr valuabl land stolen fashion read hunt big redwood howev king add crucial miss piec oft told histori explain land valuabl widespread use steel redwood lumber old wood bone industri capit precis moment 19th centuri golden state undergo growth spurt redwood lumber princip build materi entir citi includ san francisco provid durabl tie nascent railroad industri perhap importantli could fashion rot resist pipelin tank store transport water petroleum mani applic especi pipelin requir specif type redwood timber kind could found oldest tree strang king uncov mani mogul need rare lumber one supposedli campaign save redwood startl section king book concern research histori vener save redwood leagu conserv group found 1918 long time larg manag wealthi industrialist promin eugenicist racist book subtitl dig newli access archiv contain leagu privat document king report throughout histori rather attempt preserv larg tract wild land purport earli member mainli focus buy beauti strip old growth redwood alongsid roadway railway hid sight tree liquid repeatedli broker deal paid log compani exorbit amount money land sometim much four time estim market valu least one occas arriv nick time save lumber compani bankruptci meanwhil activ campaign conserv group push protect larger intact piec wilder king argu leagu gave industrialist exactli want mollifi public outcri simultan guarante industri access natur rich reader familiar eleanor catton new novel birnam wood david russel film heart huckabe realli oil industri ad campaign alreadi know feat corpor sleight hand work astonish leagu case durat success king dub effort first largest longest last exampl greenwash histori cours activist historian king learn deftli wield illus end well elid import shift paradigm classic conservation biocentr preserv ecolog restor differ word save redwood lumber beauti save sake quick brand leagu neat stamp corrupt murkier desir seem like win win compromis like often play undersel biggest accomplish truli herculean effort save bull creek flat book also markedli light self examin scant mention misstep king fellow north coast activist explor account refreshingli labor friendli nuanc environment philosophi scholarli evenhand account histori darren frederick speec book defend giant redwood war transform american environment polit worth read howev suspect reader prefer king rendit though slant glint cold sharp light near end tone book shift one bittersweet ambival 1999 deal broker part save redwood leagu still wield power nearli centuri found feder govern paid almost half billion dollar pacif lumber compani exchang 3 000 acr old growth forest set asid newli design headwat forest reserv well addit 4 000 acr previous log land act buffer though nomin victori king alli deal mere fraction 60 000 acr felt need protect ecosystem combin new feder state regul court rule public pressur past two decad made clear cut ancient redwood mostli thing past great dream preservationist complet protect watersh ancient redwood giant never achiev anywher never meanwhil climat chang begun threaten old growth redwood reli inconsist amount fog rain iron enough king write best research effect climat chang redwood recent year fund none save redwood leagu last minut grace note organ finish carv apart joint end read 400 page detail histori fierc commentari taut storytel came away ghost forest oddli given book spectral titl fittingli mystifi redwood safe last wonder mere apparit remnant past soon vanish new harsh light tomorrow'"
      ]
     },
     "execution_count": 23,
     "metadata": {},
     "output_type": "execute_result"
    }
   ],
   "source": [
    "data_new[\"Description\"][10]"
   ]
  },
  {
   "cell_type": "code",
   "execution_count": 11,
   "id": "df9aa1f3",
   "metadata": {},
   "outputs": [
    {
     "name": "stdout",
     "output_type": "stream",
     "text": [
      "Requirement already satisfied: demoji in c:\\users\\sassi\\anaconda3\\lib\\site-packages (1.1.0)\n",
      "Note: you may need to restart the kernel to use updated packages.\n"
     ]
    }
   ],
   "source": [
    "pip install demoji"
   ]
  },
  {
   "cell_type": "code",
   "execution_count": 12,
   "id": "6f821d5e",
   "metadata": {},
   "outputs": [
    {
     "name": "stdout",
     "output_type": "stream",
     "text": [
      "Requirement already satisfied: emoji in c:\\users\\sassi\\anaconda3\\lib\\site-packages (2.8.0)\n",
      "Note: you may need to restart the kernel to use updated packages.\n"
     ]
    }
   ],
   "source": [
    "pip install emoji"
   ]
  },
  {
   "cell_type": "code",
   "execution_count": 13,
   "id": "7b224c08",
   "metadata": {},
   "outputs": [
    {
     "name": "stdout",
     "output_type": "stream",
     "text": [
      "{'📚': 'books'}\n",
      "{'💩': 'pile of poo'}\n",
      "{'©': 'copyright'}\n",
      "{'📚': 'books'}\n",
      "{'📚': 'books'}\n",
      "{'😵\\u200d💫': 'face with spiral eyes'}\n",
      "{'📚': 'books'}\n",
      "{'📚': 'books'}\n",
      "{'📚': 'books'}\n",
      "{'📚': 'books'}\n",
      "{'😅': 'grinning face with sweat'}\n",
      "{'📚': 'books'}\n",
      "{'📚': 'books'}\n",
      "{'📚': 'books'}\n",
      "{'📚': 'books'}\n",
      "{'📚': 'books'}\n",
      "{'™': 'trade mark'}\n",
      "{'🎥': 'movie camera'}\n",
      "{'😊': 'smiling face with smiling eyes', '❤️': 'red heart'}\n",
      "{'♥️': 'heart suit'}\n",
      "{'📚': 'books'}\n",
      "{'👇': 'backhand index pointing down'}\n",
      "{'📚': 'books'}\n",
      "{'©': 'copyright'}\n",
      "{'™': 'trade mark'}\n",
      "{'🥱': 'yawning face', '😘': 'face blowing a kiss'}\n",
      "{'™️': 'trade mark'}\n",
      "{'🙄': 'face with rolling eyes'}\n",
      "{'™': 'trade mark'}\n",
      "{'♈': 'Aries'}\n",
      "{'😇': 'smiling face with halo'}\n",
      "{'📚': 'books'}\n",
      "{'🇪🇺': 'flag: European Union', '👋': 'waving hand'}\n",
      "{'🎃': 'jack-o-lantern'}\n",
      "{'🎥': 'movie camera'}\n",
      "{'©': 'copyright'}\n",
      "{'📈': 'chart increasing', '📚': 'books', '💸': 'money with wings', '🔪': 'kitchen knife'}\n",
      "{'🎥': 'movie camera'}\n",
      "{'©': 'copyright'}\n",
      "{'™': 'trade mark'}\n",
      "{'©': 'copyright'}\n",
      "{'🎥': 'movie camera'}\n",
      "{'©': 'copyright'}\n",
      "{'🎥': 'movie camera'}\n",
      "{'🎥': 'movie camera'}\n",
      "{'©': 'copyright'}\n",
      "{'©': 'copyright'}\n",
      "{'©': 'copyright'}\n",
      "{'©': 'copyright'}\n",
      "{'📚': 'books', '🎥': 'movie camera'}\n",
      "{'©': 'copyright'}\n",
      "{'©': 'copyright'}\n",
      "{'©': 'copyright'}\n",
      "{'©': 'copyright'}\n",
      "{'✨': 'sparkles'}\n",
      "{'✌️': 'victory hand', '✨': 'sparkles', '🌊': 'water wave', '💅': 'nail polish'}\n",
      "{'©': 'copyright'}\n",
      "{'🇺🇸': 'flag: United States'}\n",
      "{'©': 'copyright'}\n",
      "{'⚡': 'high voltage'}\n"
     ]
    }
   ],
   "source": [
    "# Check emoji\n",
    "import demoji##permet de traiter et de gérer les emojis.\n",
    "import emoji## fournit des fonctions pour travailler avec des emojis.\n",
    "emoji_result = data_new[\"Description\"].apply(lambda x: demoji.findall(x))\n",
    "for item in emoji_result.tolist():\n",
    "    if  item:##vérifie si l'élément de la liste (c'est-à-dire les emojis) est non vide\n",
    "        print(item)"
   ]
  },
  {
   "cell_type": "code",
   "execution_count": 15,
   "id": "63395ed6",
   "metadata": {},
   "outputs": [],
   "source": [
    "# Transform emoji\n",
    "data_new[\"Description\"]=data_new[\"Description\"].astype(str).apply(lambda x: emoji.demojize(x, delimiters=(' ', ' ')))##convertit les emojis présents dans la description x en leurs représentations textuelles, en utilisant des espaces comme délimiteurs (début et fin de chaque emoji)."
   ]
  },
  {
   "cell_type": "code",
   "execution_count": 16,
   "id": "16f6ef38",
   "metadata": {},
   "outputs": [],
   "source": [
    "##data_new[\"Description\"][15]"
   ]
  },
  {
   "cell_type": "code",
   "execution_count": 17,
   "id": "df5bfe67",
   "metadata": {},
   "outputs": [],
   "source": [
    "#tokenizing and stemming\n",
    "import nltk\n",
    "from nltk.tokenize import RegexpTokenizer\n",
    "from nltk.stem import PorterStemmer\n",
    "tokenizer = RegexpTokenizer(r'\\w+')\n",
    "stopwords = nltk.corpus.stopwords.words('english')\n",
    "stemmer = PorterStemmer()"
   ]
  },
  {
   "cell_type": "code",
   "execution_count": 18,
   "id": "2ef10aca",
   "metadata": {},
   "outputs": [],
   "source": [
    "def stem_sentence(sentence):\n",
    "    # Tokenize the sentence\n",
    "    tokens = tokenizer.tokenize(sentence.lower())\n",
    "    filtered_tokens = [token for token in tokens if token not in stopwords]\n",
    "    # Apply stemming to each token\n",
    "    stemmed_tokens = [stemmer.stem(token) for token in filtered_tokens]\n",
    "    # Return the stemmed sentence\n",
    "    return ' '.join(stemmed_tokens)\n",
    "# Apply stemming to the \"Tweet\" column of the \"data\" dataframe\n",
    "data_new[\"Description\"] = data_new[\"Description\"].apply(stem_sentence)"
   ]
  },
  {
   "cell_type": "code",
   "execution_count": 26,
   "id": "278bbe09",
   "metadata": {},
   "outputs": [
    {
     "data": {
      "text/plain": [
       "'1934 industrialist obsess book collector name edward newton wrote articl atlant recount trip recent taken see ancient redwood northern california travel night train timber town scotia motor car quiet fog drape forest final arriv newton writer face tallest tree earth experienc wave awe brain short circuit resort cliché articl liken massiv tree stone column cathedr quot line vers william cullen bryant crib turn plini elder grove god first templ larg old tree tend effect us deepen soul impoverish wit quit make sens owner ancient forest pacif lumber compani recent battl conservationist right cut nearbi swath old growth redwood call bull creek flat newton briefli outlin conflict articl seem torn newfound love redwood regard person friend friend pacif lumber compani duti toward stockhold natur reliev compromis recent struck cadr wealthi individu notabl john rockefel jr donat million dollar purchas 9 000 acr old growth land fold exist state park long pull strong pull pull togeth thing ten year done newton write redwood save world richer therefor author probabl goe without say wrong old growth redwood save least sens peopl today would interpret phrase ye exemplari antiqu redwood protect museumlik grove elsewher major old growth redwood ecosystem rapidli vanish worri still turn tree truli protect even protect area fact came thunder home winter 1955 flood wash away clear cut hillsid bull creek flat forest newton deem save kill hundr giant tree notion could preserv old redwood without also safeguard ecosystem reveal cruel fantasi greg king demonstr groundbreak new book ghost forest racist radic real estat california redwood histori redwood conserv perhap histori environment never end seri tempt illus hard revel centuri logger continu raze entir grove predat birth christoph columbu predat birth christ public continu reassur tree process alreadi save mid 1980 work young newspap report king stumbl across timber compani plan cut nation largest unprotect stand old growth redwood one forest happen short walk hous talk state regul struck apathet ecolog misinform visit horror show fresh clear cut decid quit job hop across thin inki line journal activ join fight save redwood five year follow king climb high branch tree slate fell organ ralli repeatedli attack logger king hit back arrest scale golden gate bridg order hang banner read save planet friend face even graver risk one fellow organ judi bari victim bomb attempt fbi frame transport bomb handl poorli histori call redwood war especi told one age activist took part could seem bit narrow almost quaint urgent environment concern day tend planetari structur rather local sylvan king brilliantli avoid pitfal expand scope book real stori want tell epic tale corrupt decept perpetr mass scale nearli centuri crusad constitut chapter earli histori industri redwood log one outright theft lax law timber stone act intend encourag new small scale log mine oper larg compani routin purchas redwood forest steep discount pretend would use individu homestead told million acr valuabl land stolen fashion read hunt big redwood howev king add crucial miss piec oft told histori explain land valuabl widespread use steel redwood lumber old wood bone industri capit precis moment 19th centuri golden state undergo growth spurt redwood lumber princip build materi entir citi includ san francisco provid durabl tie nascent railroad industri perhap importantli could fashion rot resist pipelin tank store transport water petroleum mani applic especi pipelin requir specif type redwood timber kind could found oldest tree strang king uncov mani mogul need rare lumber one supposedli campaign save redwood startl section king book concern research histori vener save redwood leagu conserv group found 1918 long time larg manag wealthi industrialist promin eugenicist racist book subtitl dig newli access archiv contain leagu privat document king report throughout histori rather attempt preserv larg tract wild land purport earli member mainli focus buy beauti strip old growth redwood alongsid roadway railway hid sight tree liquid repeatedli broker deal paid log compani exorbit amount money land sometim much four time estim market valu least one occas arriv nick time save lumber compani bankruptci meanwhil activ campaign conserv group push protect larger intact piec wilder king argu leagu gave industrialist exactli want mollifi public outcri simultan guarante industri access natur rich reader familiar eleanor catton new novel birnam wood david russel film heart huckabe realli oil industri ad campaign alreadi know feat corpor sleight hand work astonish leagu case durat success king dub effort first largest longest last exampl greenwash histori cours activist historian king learn deftli wield illus end well elid import shift paradigm classic conservation biocentr preserv ecolog restor differ word save redwood lumber beauti save sake quick brand leagu neat stamp corrupt murkier desir seem like win win compromis like often play undersel biggest accomplish truli herculean effort save bull creek flat book also markedli light self examin scant mention misstep king fellow north coast activist explor account refreshingli labor friendli nuanc environment philosophi scholarli evenhand account histori darren frederick speec book defend giant redwood war transform american environment polit worth read howev suspect reader prefer king rendit though slant glint cold sharp light near end tone book shift one bittersweet ambival 1999 deal broker part save redwood leagu still wield power nearli centuri found feder govern paid almost half billion dollar pacif lumber compani exchang 3 000 acr old growth forest set asid newli design headwat forest reserv well addit 4 000 acr previous log land act buffer though nomin victori king alli deal mere fraction 60 000 acr felt need protect ecosystem combin new feder state regul court rule public pressur past two decad made clear cut ancient redwood mostli thing past great dream preservationist complet protect watersh ancient redwood giant never achiev anywher never meanwhil climat chang begun threaten old growth redwood reli inconsist amount fog rain iron enough king write best research effect climat chang redwood recent year fund none save redwood leagu last minut grace note organ finish carv apart joint end read 400 page detail histori fierc commentari taut storytel came away ghost forest oddli given book spectral titl fittingli mystifi redwood safe last wonder mere apparit remnant past soon vanish new harsh light tomorrow'"
      ]
     },
     "execution_count": 26,
     "metadata": {},
     "output_type": "execute_result"
    }
   ],
   "source": [
    "data_new[\"Description\"][10]"
   ]
  },
  {
   "cell_type": "code",
   "execution_count": 20,
   "id": "395a6a77",
   "metadata": {},
   "outputs": [],
   "source": [
    "data_new.to_csv(\"new_data-cleaning.csv\")"
   ]
  },
  {
   "cell_type": "code",
   "execution_count": null,
   "id": "402365fc",
   "metadata": {},
   "outputs": [],
   "source": []
  },
  {
   "cell_type": "code",
   "execution_count": null,
   "id": "b4244117",
   "metadata": {},
   "outputs": [],
   "source": []
  },
  {
   "cell_type": "code",
   "execution_count": null,
   "id": "3b253e7a",
   "metadata": {},
   "outputs": [],
   "source": []
  },
  {
   "cell_type": "code",
   "execution_count": null,
   "id": "fd92c60d",
   "metadata": {},
   "outputs": [],
   "source": []
  },
  {
   "cell_type": "code",
   "execution_count": null,
   "id": "0f6cfd93",
   "metadata": {},
   "outputs": [],
   "source": []
  },
  {
   "cell_type": "code",
   "execution_count": null,
   "id": "2add7ae7",
   "metadata": {},
   "outputs": [],
   "source": []
  },
  {
   "cell_type": "code",
   "execution_count": null,
   "id": "4c31b3b0",
   "metadata": {},
   "outputs": [],
   "source": []
  },
  {
   "cell_type": "code",
   "execution_count": null,
   "id": "d6e9b241",
   "metadata": {},
   "outputs": [],
   "source": []
  },
  {
   "cell_type": "code",
   "execution_count": null,
   "id": "85fe2ea5",
   "metadata": {},
   "outputs": [],
   "source": []
  },
  {
   "cell_type": "code",
   "execution_count": null,
   "id": "730ec0fa",
   "metadata": {},
   "outputs": [],
   "source": []
  },
  {
   "cell_type": "code",
   "execution_count": null,
   "id": "b0f39aff",
   "metadata": {},
   "outputs": [],
   "source": []
  },
  {
   "cell_type": "code",
   "execution_count": null,
   "id": "ea59c62e",
   "metadata": {},
   "outputs": [],
   "source": []
  },
  {
   "cell_type": "code",
   "execution_count": null,
   "id": "6dccb9ba",
   "metadata": {},
   "outputs": [],
   "source": []
  },
  {
   "cell_type": "code",
   "execution_count": null,
   "id": "bde61501",
   "metadata": {},
   "outputs": [],
   "source": []
  }
 ],
 "metadata": {
  "kernelspec": {
   "display_name": "Python 3 (ipykernel)",
   "language": "python",
   "name": "python3"
  },
  "language_info": {
   "codemirror_mode": {
    "name": "ipython",
    "version": 3
   },
   "file_extension": ".py",
   "mimetype": "text/x-python",
   "name": "python",
   "nbconvert_exporter": "python",
   "pygments_lexer": "ipython3",
   "version": "3.10.9"
  }
 },
 "nbformat": 4,
 "nbformat_minor": 5
}
