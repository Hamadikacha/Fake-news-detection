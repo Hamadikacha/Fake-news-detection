{
 "cells": [
  {
   "cell_type": "code",
   "execution_count": 32,
   "id": "7c4653aa",
   "metadata": {},
   "outputs": [],
   "source": [
    "import pandas as pd\n",
    "import numpy as np\n",
    "from sklearn.metrics import accuracy_score, classification_report, confusion_matrix\n",
    "import pickle\n",
    "test_news_df=pd.read_csv(\"news_test.csv\")"
   ]
  },
  {
   "cell_type": "code",
   "execution_count": 34,
   "id": "1d965661",
   "metadata": {},
   "outputs": [],
   "source": [
    "test_news_df.head()\n",
    "y = test_news_df['label']"
   ]
  },
  {
   "cell_type": "code",
   "execution_count": 35,
   "id": "efc9c250",
   "metadata": {},
   "outputs": [],
   "source": [
    "#test evaluation\n",
    "with open(r'C:\\Users\\sassi\\tfidf_v.pkl', 'rb') as fichier:\n",
    "    tfidf_v = pickle.load(fichier)"
   ]
  },
  {
   "cell_type": "code",
   "execution_count": 36,
   "id": "f5981a06",
   "metadata": {},
   "outputs": [],
   "source": [
    "test_tfidf= tfidf_v .transform(test_news_df[\"text\"])"
   ]
  },
  {
   "cell_type": "code",
   "execution_count": 44,
   "id": "df5b1b11",
   "metadata": {},
   "outputs": [
    {
     "name": "stdout",
     "output_type": "stream",
     "text": [
      "0.9850746268656716\n",
      "Confusion Matrix:\n",
      "[[67  0]\n",
      " [ 2 65]]\n"
     ]
    }
   ],
   "source": [
    "\n",
    "#RandomForrest\n",
    "with open(r'C:\\Users\\sassi\\RandomForestClassifier.pkl', 'rb') as fichier:\n",
    "    modele_importe_rf = pickle.load(fichier)\n",
    "predictions = modele_importe_rf.predict(test_tfidf)\n",
    "score_rf= accuracy_score(test_news_df['label'],predictions)\n",
    "print(score_rf)\n",
    "confusion = confusion_matrix(y, predictions)\n",
    "print(\"Confusion Matrix:\")\n",
    "print(confusion)"
   ]
  },
  {
   "cell_type": "code",
   "execution_count": 38,
   "id": "e0f071eb",
   "metadata": {},
   "outputs": [
    {
     "name": "stdout",
     "output_type": "stream",
     "text": [
      "Confusion Matrix:\n",
      "[[67  0]\n",
      " [ 2 65]]\n"
     ]
    }
   ],
   "source": []
  },
  {
   "cell_type": "code",
   "execution_count": 22,
   "id": "8b573865",
   "metadata": {},
   "outputs": [
    {
     "data": {
      "text/plain": [
       "0.9850746268656716"
      ]
     },
     "execution_count": 22,
     "metadata": {},
     "output_type": "execute_result"
    }
   ],
   "source": []
  },
  {
   "cell_type": "code",
   "execution_count": 45,
   "id": "9b65dca3",
   "metadata": {},
   "outputs": [
    {
     "name": "stdout",
     "output_type": "stream",
     "text": [
      "0.835820895522388\n",
      "Confusion Matrix:\n",
      "[[66  1]\n",
      " [21 46]]\n"
     ]
    }
   ],
   "source": [
    "#logisticregression\n",
    "with open(r'C:\\Users\\sassi\\LogisticRegression.pkl', 'rb') as fichier:\n",
    "    modele_importe_lr= pickle.load(fichier)\n",
    "predictions = modele_importe_lr.predict(test_tfidf)\n",
    "score_rf= accuracy_score(test_news_df['label'],predictions)\n",
    "print(score_rf)\n",
    "\n",
    "confusion = confusion_matrix(y, predictions)\n",
    "print(\"Confusion Matrix:\")\n",
    "print(confusion)"
   ]
  },
  {
   "cell_type": "code",
   "execution_count": 46,
   "id": "e0d58fe9",
   "metadata": {},
   "outputs": [
    {
     "name": "stdout",
     "output_type": "stream",
     "text": [
      "0.8880597014925373\n",
      "Confusion Matrix:\n",
      "[[67  0]\n",
      " [15 52]]\n"
     ]
    }
   ],
   "source": [
    "##passiveaggressiveclassifier\n",
    "with open(r'C:\\Users\\sassi\\PassiveAggressiveClassifier.pkl', 'rb') as fichier:\n",
    "    modele_importe_pag = pickle.load(fichier)\n",
    "predictions = modele_importe_pag.predict(test_tfidf)\n",
    "score_rf= accuracy_score(test_news_df['label'],predictions)\n",
    "print(score_rf)\n",
    "confusion = confusion_matrix(y, predictions)\n",
    "print(\"Confusion Matrix:\")\n",
    "print(confusion)"
   ]
  },
  {
   "cell_type": "code",
   "execution_count": 47,
   "id": "218264a8",
   "metadata": {},
   "outputs": [
    {
     "name": "stdout",
     "output_type": "stream",
     "text": [
      "0.8507462686567164\n",
      "Confusion Matrix:\n",
      "[[63  4]\n",
      " [16 51]]\n"
     ]
    }
   ],
   "source": [
    "##kneighborsclassifier\n",
    "with open(r'C:\\Users\\sassi\\KNeighborsClassifier.pkl', 'rb') as fichier:\n",
    "    modele_importe_kn = pickle.load(fichier)\n",
    "predictions = modele_importe_kn.predict(test_tfidf)\n",
    "score_rf= accuracy_score(test_news_df['label'],predictions)\n",
    "print(score_rf)\n",
    "confusion = confusion_matrix(y, predictions)\n",
    "print(\"Confusion Matrix:\")\n",
    "print(confusion)"
   ]
  },
  {
   "cell_type": "code",
   "execution_count": 48,
   "id": "197533e8",
   "metadata": {},
   "outputs": [
    {
     "data": {
      "image/png": "[encoded data removed]",
      "text/plain": [
       "<Figure size 1000x600 with 1 Axes>"
      ]
     },
     "metadata": {},
     "output_type": "display_data"
    }
   ],
   "source": [
    "import matplotlib.pyplot as plt\n",
    "\n",
    "# Noms des modèles\n",
    "modele_noms = ['rf', 'lr', 'pag', 'kn']\n",
    "\n",
    "# Valeurs d'exactitude correspondantes\n",
    "exactitude = [0.98, 0.83, 0.88, 0.85]\n",
    "\n",
    "# Création du graphique\n",
    "plt.figure(figsize=(10, 6))\n",
    "plt.bar(modele_noms, exactitude, color='blue')\n",
    "plt.xlabel('Modèles')\n",
    "plt.ylabel('Exactitude')\n",
    "plt.title('Exactitude des différents modèles')\n",
    "plt.ylim(0, 1)  # Plage de l'axe des ordonnées (0 à 1)\n",
    "plt.show()"
   ]
  },
  {
   "cell_type": "code",
   "execution_count": 1,
   "id": "6149d6a4",
   "metadata": {},
   "outputs": [],
   "source": [
    "def search(text):\n",
    "    data=[]\n",
    "    url = 'https://google.com/search?q=' + text\n",
    "    request_result=requests.get( url )\n",
    "    soup = bs4.BeautifulSoup(request_result.text, \"html.parser\")\n",
    "    heading_object=soup.find_all( 'h3' )\n",
    "    for info in heading_object:\n",
    "        print(info.getText())\n",
    "        data.append(info.getText())\n",
    "    return data"
   ]
  },
  {
   "cell_type": "code",
   "execution_count": null,
   "id": "70d1a32e",
   "metadata": {},
   "outputs": [],
   "source": [
    "import numpy as np\n",
    "def cosine_similarity(text1, text2):\n",
    "    vectorizer = TfidfVectorizer()\n",
    "    vectors = vectorizer.fit_transform([text1, text2]).toarray()\n",
    "    vector1 = vectors[0]\n",
    "    vector2 = vectors[1]\n",
    "    # Calculer le produit scalaire des vecteurs\n",
    "    dot_product = np.dot(vector1, vector2)\n",
    "    # Calculer les normes des vecteurs\n",
    "    norm1 = np.linalg.norm(vector1)\n",
    "    norm2 = np.linalg.norm(vector2)\n",
    "    # Calculer la similarité du cosinus\n",
    "    similarity = dot_product / (norm1 * norm2)\n",
    "    return similarity"
   ]
  }
 ],
 "metadata": {
  "kernelspec": {
   "display_name": "Python 3 (ipykernel)",
   "language": "python",
   "name": "python3"
  },
  "language_info": {
   "codemirror_mode": {
    "name": "ipython",
    "version": 3
   },
   "file_extension": ".py",
   "mimetype": "text/x-python",
   "name": "python",
   "nbconvert_exporter": "python",
   "pygments_lexer": "ipython3",
   "version": "3.10.9"
  }
 },
 "nbformat": 4,
 "nbformat_minor": 5
}
