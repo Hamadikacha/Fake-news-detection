{
 "cells": [
  {
   "cell_type": "code",
   "execution_count": 1,
   "id": "083765f2",
   "metadata": {},
   "outputs": [],
   "source": [
    "import pandas as pd\n",
    "import numpy as np\n",
    "\n",
    "# Charger les deux fichiers CSV dans des DataFrames\n",
    "file1 = \"new_data-cleaning.csv\"\n",
    "file2 = \"new_data_fake-cleaning22.csv\"\n",
    "df1 = pd.read_csv(file1)\n",
    "df2 = pd.read_csv(file2)\n",
    "\n",
    "# Concaténer les deux DataFrames\n",
    "df = pd.concat([df1, df2], ignore_index=True)"
   ]
  },
  {
   "cell_type": "code",
   "execution_count": 2,
   "id": "4158e531",
   "metadata": {},
   "outputs": [
    {
     "data": {
      "text/html": [
       "<div>\n",
       "<style scoped>\n",
       "    .dataframe tbody tr th:only-of-type {\n",
       "        vertical-align: middle;\n",
       "    }\n",
       "\n",
       "    .dataframe tbody tr th {\n",
       "        vertical-align: top;\n",
       "    }\n",
       "\n",
       "    .dataframe thead th {\n",
       "        text-align: right;\n",
       "    }\n",
       "</style>\n",
       "<table border=\"1\" class=\"dataframe\">\n",
       "  <thead>\n",
       "    <tr style=\"text-align: right;\">\n",
       "      <th></th>\n",
       "      <th>Unnamed: 0</th>\n",
       "      <th>Title</th>\n",
       "      <th>Description</th>\n",
       "      <th>Label</th>\n",
       "    </tr>\n",
       "  </thead>\n",
       "  <tbody>\n",
       "    <tr>\n",
       "      <th>0</th>\n",
       "      <td>0</td>\n",
       "      <td>The Georgia Indictment Offers the Whole Picture</td>\n",
       "      <td>articl featur one stori read today newslett ed...</td>\n",
       "      <td>1</td>\n",
       "    </tr>\n",
       "    <tr>\n",
       "      <th>1</th>\n",
       "      <td>1</td>\n",
       "      <td>Sam Bankman-Fried Pushed One Boundary Too Many</td>\n",
       "      <td>updat 1 35 p et august 15 2023 edit atlant dai...</td>\n",
       "      <td>1</td>\n",
       "    </tr>\n",
       "    <tr>\n",
       "      <th>2</th>\n",
       "      <td>2</td>\n",
       "      <td>Schrödinger’s Cage Match</td>\n",
       "      <td>follow news earlier today elon musk further na...</td>\n",
       "      <td>1</td>\n",
       "    </tr>\n",
       "    <tr>\n",
       "      <th>3</th>\n",
       "      <td>3</td>\n",
       "      <td>I Turned My House into a Zero-Carbon Utopia</td>\n",
       "      <td>last april decid break ga compani like mani fo...</td>\n",
       "      <td>1</td>\n",
       "    </tr>\n",
       "    <tr>\n",
       "      <th>4</th>\n",
       "      <td>4</td>\n",
       "      <td>The Greatest Pogo Stick the World Has Ever Seen</td>\n",
       "      <td>swelter heat downtown pittsburgh last friday j...</td>\n",
       "      <td>1</td>\n",
       "    </tr>\n",
       "  </tbody>\n",
       "</table>\n",
       "</div>"
      ],
      "text/plain": [
       "   Unnamed: 0                                            Title  \\\n",
       "0           0  The Georgia Indictment Offers the Whole Picture   \n",
       "1           1   Sam Bankman-Fried Pushed One Boundary Too Many   \n",
       "2           2                         Schrödinger’s Cage Match   \n",
       "3           3      I Turned My House into a Zero-Carbon Utopia   \n",
       "4           4  The Greatest Pogo Stick the World Has Ever Seen   \n",
       "\n",
       "                                         Description  Label  \n",
       "0  articl featur one stori read today newslett ed...      1  \n",
       "1  updat 1 35 p et august 15 2023 edit atlant dai...      1  \n",
       "2  follow news earlier today elon musk further na...      1  \n",
       "3  last april decid break ga compani like mani fo...      1  \n",
       "4  swelter heat downtown pittsburgh last friday j...      1  "
      ]
     },
     "execution_count": 2,
     "metadata": {},
     "output_type": "execute_result"
    }
   ],
   "source": [
    "df.head()"
   ]
  },
  {
   "cell_type": "code",
   "execution_count": 3,
   "id": "a9aef6b5",
   "metadata": {},
   "outputs": [],
   "source": [
    "df=df.drop(\"Unnamed: 0\",axis=1)"
   ]
  },
  {
   "cell_type": "code",
   "execution_count": 4,
   "id": "a50b716b",
   "metadata": {},
   "outputs": [
    {
     "data": {
      "text/html": [
       "<div>\n",
       "<style scoped>\n",
       "    .dataframe tbody tr th:only-of-type {\n",
       "        vertical-align: middle;\n",
       "    }\n",
       "\n",
       "    .dataframe tbody tr th {\n",
       "        vertical-align: top;\n",
       "    }\n",
       "\n",
       "    .dataframe thead th {\n",
       "        text-align: right;\n",
       "    }\n",
       "</style>\n",
       "<table border=\"1\" class=\"dataframe\">\n",
       "  <thead>\n",
       "    <tr style=\"text-align: right;\">\n",
       "      <th></th>\n",
       "      <th>Title</th>\n",
       "      <th>Description</th>\n",
       "      <th>Label</th>\n",
       "    </tr>\n",
       "  </thead>\n",
       "  <tbody>\n",
       "    <tr>\n",
       "      <th>0</th>\n",
       "      <td>BREAKING: Evidence Trump Cheated Leads To MAS...</td>\n",
       "      <td>evid uncov could point donald trump russian ri...</td>\n",
       "      <td>0</td>\n",
       "    </tr>\n",
       "    <tr>\n",
       "      <th>1</th>\n",
       "      <td>Paleotsunamis Offer a Quiet Warning</td>\n",
       "      <td>articl origin publish hakai magazin boulder we...</td>\n",
       "      <td>1</td>\n",
       "    </tr>\n",
       "    <tr>\n",
       "      <th>2</th>\n",
       "      <td>Ukrainians Are Defending the Values Americans ...</td>\n",
       "      <td>busi go ukrain countri need anoth report cover...</td>\n",
       "      <td>1</td>\n",
       "    </tr>\n",
       "    <tr>\n",
       "      <th>3</th>\n",
       "      <td>DESPERATE Senate Republicans Just Dropped Pro...</td>\n",
       "      <td>matter much want admit true mani republican es...</td>\n",
       "      <td>0</td>\n",
       "    </tr>\n",
       "    <tr>\n",
       "      <th>4</th>\n",
       "      <td>Meet The Billionaire Behind Trump’s Twitter B...</td>\n",
       "      <td>one gop biggest donor use associ ibm man respo...</td>\n",
       "      <td>0</td>\n",
       "    </tr>\n",
       "  </tbody>\n",
       "</table>\n",
       "</div>"
      ],
      "text/plain": [
       "                                               Title  \\\n",
       "0   BREAKING: Evidence Trump Cheated Leads To MAS...   \n",
       "1                Paleotsunamis Offer a Quiet Warning   \n",
       "2  Ukrainians Are Defending the Values Americans ...   \n",
       "3   DESPERATE Senate Republicans Just Dropped Pro...   \n",
       "4   Meet The Billionaire Behind Trump’s Twitter B...   \n",
       "\n",
       "                                         Description  Label  \n",
       "0  evid uncov could point donald trump russian ri...      0  \n",
       "1  articl origin publish hakai magazin boulder we...      1  \n",
       "2  busi go ukrain countri need anoth report cover...      1  \n",
       "3  matter much want admit true mani republican es...      0  \n",
       "4  one gop biggest donor use associ ibm man respo...      0  "
      ]
     },
     "execution_count": 4,
     "metadata": {},
     "output_type": "execute_result"
    }
   ],
   "source": [
    "df=df.iloc[np.random.permutation(df.index)].reset_index(drop=True)##df shuffled\n",
    "df.head()"
   ]
  },
  {
   "cell_type": "code",
   "execution_count": 5,
   "id": "159ecc5d",
   "metadata": {},
   "outputs": [],
   "source": [
    "from sklearn.feature_extraction.text import TfidfVectorizer\n",
    "tfidf_v = TfidfVectorizer()\n",
    "X = tfidf_v.fit_transform(df['Description'])##.values.astype('U')\n",
    "y = df['Label']"
   ]
  },
  {
   "cell_type": "code",
   "execution_count": 6,
   "id": "e44201ed",
   "metadata": {},
   "outputs": [],
   "source": [
    "# Convert X_train and X_test from sparse matrix to dense numpy array\n",
    "#X_train = X_train.toarray()\n",
    "#X_test = X_test.toarray()"
   ]
  },
  {
   "cell_type": "code",
   "execution_count": 7,
   "id": "a8ae36e0",
   "metadata": {},
   "outputs": [],
   "source": [
    "from sklearn.model_selection import train_test_split\n",
    "X_train, X_test, y_train, y_test = train_test_split(X, y, test_size=0.4, random_state=40)"
   ]
  },
  {
   "cell_type": "code",
   "execution_count": 8,
   "id": "3af18bff",
   "metadata": {},
   "outputs": [],
   "source": [
    "\n",
    "from sklearn.metrics import accuracy_score, classification_report, confusion_matrix"
   ]
  },
  {
   "cell_type": "code",
   "execution_count": null,
   "id": "ee7a3c08",
   "metadata": {},
   "outputs": [],
   "source": [
    "\n",
    "\n"
   ]
  },
  {
   "cell_type": "code",
   "execution_count": 9,
   "id": "517e9486",
   "metadata": {},
   "outputs": [],
   "source": [
    "from sklearn.ensemble import RandomForestClassifier"
   ]
  },
  {
   "cell_type": "code",
   "execution_count": 10,
   "id": "3dd0f97d",
   "metadata": {},
   "outputs": [],
   "source": [
    "# Création du modèle Random Forest\n",
    "RFC = RandomForestClassifier(n_estimators=100, random_state=42)"
   ]
  },
  {
   "cell_type": "code",
   "execution_count": 11,
   "id": "bf60f07b",
   "metadata": {},
   "outputs": [
    {
     "name": "stdout",
     "output_type": "stream",
     "text": [
      "Accuracy: 0.9944792973651192\n",
      "Classification Report:\n",
      "              precision    recall  f1-score   support\n",
      "\n",
      "           0       0.99      1.00      0.99      1956\n",
      "           1       1.00      0.99      0.99      2029\n",
      "\n",
      "    accuracy                           0.99      3985\n",
      "   macro avg       0.99      0.99      0.99      3985\n",
      "weighted avg       0.99      0.99      0.99      3985\n",
      "\n",
      "Confusion Matrix:\n",
      "[[1953    3]\n",
      " [  19 2010]]\n"
     ]
    }
   ],
   "source": [
    "# Entraînement du modèle\n",
    "RFC.fit(X_train, y_train)\n",
    "\n",
    "# Prédiction sur l'ensemble de test\n",
    "y_pred = RFC.predict(X_test)\n",
    "# Évaluation des performances\n",
    "accuracy = accuracy_score(y_test, y_pred)\n",
    "print(\"Accuracy:\", accuracy)\n",
    "\n",
    "print(\"Classification Report:\")\n",
    "print(classification_report(y_test, y_pred))\n",
    "\n",
    "confusion = confusion_matrix(y_test, y_pred)\n",
    "print(\"Confusion Matrix:\")\n",
    "print(confusion)"
   ]
  },
  {
   "cell_type": "code",
   "execution_count": 12,
   "id": "6f5a04f8",
   "metadata": {},
   "outputs": [],
   "source": [
    "# plot confusion matrix\n",
    "#import matplotlib.pyplot as plt\n",
    "#import seaborn as sns\n",
    "#cm = confusion_matrix(y_test, y_pred)\n",
    "#sns.heatmap(cm, annot=True, cmap='Blues', fmt='g', xticklabels=['0:Fake', '1:Real'], yticklabels=['0:Fake', '1:Real'])\n",
    "#plt.xlabel('Predicted Class')\n",
    "#plt.ylabel('True Class')\n",
    "#plt.title('Confusion Matrix')\n",
    "#plt.show()"
   ]
  },
  {
   "cell_type": "code",
   "execution_count": 13,
   "id": "f9271b52",
   "metadata": {},
   "outputs": [
    {
     "name": "stdout",
     "output_type": "stream",
     "text": [
      "Accuracy score: 0.9756587202007528\n",
      "Classification Report:\n",
      "              precision    recall  f1-score   support\n",
      "\n",
      "           0       0.97      0.98      0.98      1956\n",
      "           1       0.98      0.97      0.98      2029\n",
      "\n",
      "    accuracy                           0.98      3985\n",
      "   macro avg       0.98      0.98      0.98      3985\n",
      "weighted avg       0.98      0.98      0.98      3985\n",
      "\n",
      "Confusion Matrix:\n",
      "[[1918   38]\n",
      " [  59 1970]]\n"
     ]
    }
   ],
   "source": [
    "from sklearn.tree import DecisionTreeClassifier\n",
    "\n",
    "# initialize the decision tree classifier\n",
    "dtc = DecisionTreeClassifier(random_state=42)\n",
    "# fit the model on the training data\n",
    "dtc.fit(X_train, y_train)\n",
    "# make predictions on the test data\n",
    "y_pred = dtc.predict(X_test)\n",
    "# calculate the accuracy score\n",
    "accuracy = accuracy_score(y_test, y_pred)\n",
    "print(\"Accuracy score:\", accuracy)\n",
    "print(\"Classification Report:\")\n",
    "print(classification_report(y_test, y_pred))\n",
    "confusion = confusion_matrix(y_test, y_pred)\n",
    "print(\"Confusion Matrix:\")\n",
    "print(confusion)"
   ]
  },
  {
   "cell_type": "code",
   "execution_count": 14,
   "id": "b8f3caa7",
   "metadata": {},
   "outputs": [
    {
     "name": "stdout",
     "output_type": "stream",
     "text": [
      "accuracy:   0.976\n",
      "Classification Report:\n",
      "              precision    recall  f1-score   support\n",
      "\n",
      "           0       0.97      0.98      0.98      1956\n",
      "           1       0.98      0.97      0.98      2029\n",
      "\n",
      "    accuracy                           0.98      3985\n",
      "   macro avg       0.98      0.98      0.98      3985\n",
      "weighted avg       0.98      0.98      0.98      3985\n",
      "\n",
      "Confusion Matrix:\n",
      "[[1918   38]\n",
      " [  59 1970]]\n"
     ]
    }
   ],
   "source": [
    "from sklearn import metrics\n",
    "from sklearn.linear_model import PassiveAggressiveClassifier\n",
    "PAclassifier = PassiveAggressiveClassifier(max_iter=1000)\n",
    "PAclassifier.fit(X_train, y_train)\n",
    "pred_pac = PAclassifier.predict(X_test)\n",
    "score = metrics.accuracy_score(y_test, y_pred)\n",
    "print(\"accuracy:   %0.3f\" % score)\n",
    "print(\"Classification Report:\")\n",
    "print(classification_report(y_test, y_pred))\n",
    "confusion = confusion_matrix(y_test, y_pred)\n",
    "print(\"Confusion Matrix:\")\n",
    "print(confusion)"
   ]
  },
  {
   "cell_type": "code",
   "execution_count": 15,
   "id": "ee53db76",
   "metadata": {},
   "outputs": [],
   "source": [
    "from sklearn.linear_model import LogisticRegression"
   ]
  },
  {
   "cell_type": "code",
   "execution_count": 16,
   "id": "5bc11d5c",
   "metadata": {},
   "outputs": [
    {
     "name": "stdout",
     "output_type": "stream",
     "text": [
      "Accuracy: 0.9854454203262233\n",
      "Classification Report:\n",
      "              precision    recall  f1-score   support\n",
      "\n",
      "           0       0.98      0.99      0.99      1956\n",
      "           1       0.99      0.99      0.99      2029\n",
      "\n",
      "    accuracy                           0.99      3985\n",
      "   macro avg       0.99      0.99      0.99      3985\n",
      "weighted avg       0.99      0.99      0.99      3985\n",
      "\n",
      "Confusion Matrix:\n",
      "[[1928   28]\n",
      " [  30 1999]]\n"
     ]
    }
   ],
   "source": [
    "# Création du modèle de régression logistique pour la classification\n",
    "lr= LogisticRegression(max_iter=1000, random_state=42)\n",
    "\n",
    "# Entraînement du modèle\n",
    "lr.fit(X_train, y_train)\n",
    "\n",
    "# Prédiction sur l'ensemble de test\n",
    "y_pred = lr.predict(X_test)\n",
    "\n",
    "# Évaluation des performances\n",
    "accuracy = accuracy_score(y_test, y_pred)\n",
    "print(\"Accuracy:\", accuracy)\n",
    "\n",
    "print(\"Classification Report:\")\n",
    "print(classification_report(y_test, y_pred))\n",
    "\n",
    "confusion = confusion_matrix(y_test, y_pred)\n",
    "print(\"Confusion Matrix:\")\n",
    "print(confusion)"
   ]
  },
  {
   "cell_type": "code",
   "execution_count": 17,
   "id": "01b909c2",
   "metadata": {},
   "outputs": [],
   "source": [
    "from sklearn.neighbors import KNeighborsClassifier"
   ]
  },
  {
   "cell_type": "code",
   "execution_count": 18,
   "id": "9b96b020",
   "metadata": {},
   "outputs": [],
   "source": [
    "# Création du modèle KNN pour la classification (avec k=5 voisins)\n",
    "KN = KNeighborsClassifier(n_neighbors=5)\n",
    "\n",
    "# Entraînement du modèle\n",
    "KN.fit(X_train, y_train)\n",
    "\n",
    "# Prédiction sur l'ensemble de test\n",
    "y_pred = KN.predict(X_test)"
   ]
  },
  {
   "cell_type": "code",
   "execution_count": 19,
   "id": "d77e76a1",
   "metadata": {},
   "outputs": [
    {
     "name": "stdout",
     "output_type": "stream",
     "text": [
      "Accuracy: 0.9377666248431619\n",
      "Classification Report:\n",
      "              precision    recall  f1-score   support\n",
      "\n",
      "           0       0.96      0.91      0.93      1956\n",
      "           1       0.92      0.97      0.94      2029\n",
      "\n",
      "    accuracy                           0.94      3985\n",
      "   macro avg       0.94      0.94      0.94      3985\n",
      "weighted avg       0.94      0.94      0.94      3985\n",
      "\n",
      "Confusion Matrix:\n",
      "[[1774  182]\n",
      " [  66 1963]]\n"
     ]
    }
   ],
   "source": [
    "# Évaluation des performances\n",
    "accuracy = accuracy_score(y_test, y_pred)\n",
    "print(\"Accuracy:\", accuracy)\n",
    "\n",
    "print(\"Classification Report:\")\n",
    "print(classification_report(y_test, y_pred))\n",
    "\n",
    "confusion = confusion_matrix(y_test, y_pred)\n",
    "print(\"Confusion Matrix:\")\n",
    "print(confusion)"
   ]
  },
  {
   "cell_type": "code",
   "execution_count": 35,
   "id": "258d8f49",
   "metadata": {},
   "outputs": [],
   "source": [
    "import pickle\n",
    "pickle.dump(dtc,open('DecisionTree.pkl','wb'))\n",
    "pickle.dump(lr,open('LogisticRegression.pkl','wb'))\n",
    "pickle.dump(PAclassifier ,open('PassiveAggressiveClassifier.pkl','wb'))\n",
    "pickle.dump(RFC,open('RandomForestClassifier.pkl','wb'))\n",
    "pickle.dump(KN,open('KNeighborsClassifier.pkl','wb'))\n",
    "pickle.dump(tfidf_v,open('tfidf_v.pkl','wb'))"
   ]
  },
  {
   "cell_type": "code",
   "execution_count": null,
   "id": "a75341e0",
   "metadata": {},
   "outputs": [],
   "source": []
  },
  {
   "cell_type": "code",
   "execution_count": 23,
   "id": "dd5555e0",
   "metadata": {},
   "outputs": [],
   "source": [
    "#test evaluation\n",
    "#test evaluation\n",
    "#test_news_df = pd.read_csv('Real_newsTesting-cleaning.csv')\n",
    "#test_news_df[\"Label\"]=1\n",
    "#test_tfidf= tfidf_v .transform(test_news_df[\"article\"])"
   ]
  },
  {
   "cell_type": "code",
   "execution_count": 24,
   "id": "138526b9",
   "metadata": {},
   "outputs": [
    {
     "name": "stdout",
     "output_type": "stream",
     "text": [
      "[1 0 1 0 0 0 0 1 0 1 1 0 1 1 1 0 1 0 0 0 1 0 0 0 1 0 0 1 1 1 1 1 0 0 1 0 1\n",
      " 1 1 1 1 1 1 1 1 1 1 1 1 1 1 1 1 1 1 1 1 1 1 1 1 0 1 1 1 1 1 1 1 0 1 1]\n",
      "0.7083333333333334\n"
     ]
    }
   ],
   "source": [
    "#predictions = lr.predict(test_tfidf)\n",
    "#print(predictions)\n",
    "#score= accuracy_score(test_news_df[\"Label\"],predictions)\n",
    "#print(score)"
   ]
  },
  {
   "cell_type": "code",
   "execution_count": 25,
   "id": "e8574731",
   "metadata": {},
   "outputs": [
    {
     "name": "stdout",
     "output_type": "stream",
     "text": [
      "[1 1 1 1 1 1 1 1 1 1 1 1 1 1 1 1 1 1 1 1 1 1 1 1 1 1 1 1 1 1 1 1 1 1 1 1 1\n",
      " 1 1 1 1 1 1 1 1 1 1 1 1 1 1 1 0 1 1 1 1 1 0 1 1 1 1 1 1 1 1 1 1 1 1 1]\n",
      "0.9722222222222222\n"
     ]
    }
   ],
   "source": [
    "#predictions = RFC.predict(test_tfidf)\n",
    "#print(predictions)\n",
    "#score= accuracy_score(test_news_df[\"Label\"],predictions)\n",
    "#print(score)"
   ]
  },
  {
   "cell_type": "code",
   "execution_count": 26,
   "id": "09d97c72",
   "metadata": {},
   "outputs": [
    {
     "name": "stdout",
     "output_type": "stream",
     "text": [
      "[1 1 1 1 1 1 1 1 1 1 1 1 1 1 1 1 1 1 1 1 1 1 1 1 1 1 1 1 1 1 1 1 1 1 1 1 1\n",
      " 1 1 1 1 1 1 1 1 1 0 1 1 1 1 1 1 1 1 1 1 1 0 1 1 1 1 1 1 1 1 1 1 1 1 1]\n",
      "0.9722222222222222\n"
     ]
    }
   ],
   "source": [
    "#predictions = dtc.predict(test_tfidf)\n",
    "#print(predictions)\n",
    "#score= accuracy_score(test_news_df[\"Label\"],predictions)\n",
    "#print(score)"
   ]
  },
  {
   "cell_type": "code",
   "execution_count": 27,
   "id": "0ec683d7",
   "metadata": {},
   "outputs": [
    {
     "name": "stdout",
     "output_type": "stream",
     "text": [
      "[1 0 1 1 0 0 1 1 0 1 1 0 1 1 1 0 1 0 0 0 0 0 1 0 1 1 0 1 1 1 1 1 1 1 1 1 1\n",
      " 1 1 1 1 1 1 1 1 1 1 1 1 1 1 1 1 1 1 1 1 1 1 1 1 0 1 1 1 1 1 1 1 0 1 1]\n",
      "0.7916666666666666\n"
     ]
    }
   ],
   "source": [
    "#predictions = PAclassifier.predict(test_tfidf)\n",
    "#print(predictions)\n",
    "#score= accuracy_score(test_news_df[\"Label\"],predictions)\n",
    "#print(score)"
   ]
  },
  {
   "cell_type": "code",
   "execution_count": 28,
   "id": "b661f4bb",
   "metadata": {},
   "outputs": [
    {
     "name": "stdout",
     "output_type": "stream",
     "text": [
      "[0 1 1 1 0 0 1 1 0 1 1 1 1 1 0 0 1 0 0 0 1 1 1 1 1 0 0 1 1 1 1 1 0 1 1 1 1\n",
      " 1 1 1 1 1 1 1 1 1 1 1 1 1 1 1 1 1 1 1 1 1 1 1 1 0 0 1 1 0 1 1 1 0 1 1]\n",
      "0.7777777777777778\n"
     ]
    }
   ],
   "source": [
    "#predictions = KN.predict(test_tfidf)\n",
    "#print(predictions)\n",
    "#score= accuracy_score(test_news_df[\"Label\"],predictions)\n",
    "#print(score)"
   ]
  },
  {
   "cell_type": "code",
   "execution_count": null,
   "id": "c14b2a6d",
   "metadata": {},
   "outputs": [],
   "source": [
    "##TEST FAKE NEWS"
   ]
  },
  {
   "cell_type": "code",
   "execution_count": 37,
   "id": "ad0f4c87",
   "metadata": {},
   "outputs": [],
   "source": [
    "#test evaluation\n",
    "#test evaluation\n",
    "#test_news_df = pd.read_csv('FAKE_newsTesting.csv')\n",
    "#test_news_df[\"Label\"]=0\n",
    "#test_news_df.head()\n",
    "#test_tfidf= tfidf_v .transform(test_news_df[\"text\"])"
   ]
  },
  {
   "cell_type": "code",
   "execution_count": 30,
   "id": "1b577d55",
   "metadata": {},
   "outputs": [
    {
     "name": "stdout",
     "output_type": "stream",
     "text": [
      "[0 0 0 0 0 0 0 0 0 0 0 0 0 0 0 0 0 0 0 0 0 0 0 0 0 0 0 0 0 0 0 0 0 0 0 0 0\n",
      " 0 0 0 0 0 0 0 0 0 0 0 0 0 0 0 0 0 0 0 0 0 0 0 0 0 0 0 0 0 0 0 0 0 0 0]\n",
      "1.0\n"
     ]
    }
   ],
   "source": []
  },
  {
   "cell_type": "code",
   "execution_count": 31,
   "id": "2d83c5b7",
   "metadata": {},
   "outputs": [
    {
     "name": "stdout",
     "output_type": "stream",
     "text": [
      "[0 0 0 0 0 0 0 0 0 0 0 0 0 0 0 0 0 0 0 0 1 0 0 0 0 0 0 0 0 0 0 0 0 0 0 0 0\n",
      " 0 0 0 0 0 0 0 0 0 0 1 0 0 0 0 0 0 0 0 0 0 0 0 0 0 0 0 0 0 0 0 0 0 0 0]\n",
      "0.9722222222222222\n"
     ]
    }
   ],
   "source": []
  },
  {
   "cell_type": "code",
   "execution_count": 32,
   "id": "c9cd8129",
   "metadata": {},
   "outputs": [
    {
     "name": "stdout",
     "output_type": "stream",
     "text": [
      "[0 1 0 0 1 1 0 1 1 1 0 0 1 0 0 1 0 1 1 0 0 1 1 1 1 1 0 0 0 0 1 1 1 1 1 0 1\n",
      " 1 0 0 0 1 1 1 0 1 1 1 1 1 1 1 1 1 0 0 1 0 0 0 0 1 0 1 1 1 1 1 0 1 1 0]\n",
      "0.4027777777777778\n"
     ]
    }
   ],
   "source": []
  },
  {
   "cell_type": "code",
   "execution_count": 33,
   "id": "304e07f9",
   "metadata": {},
   "outputs": [
    {
     "name": "stdout",
     "output_type": "stream",
     "text": [
      "[0 0 0 0 0 0 0 0 0 0 0 0 0 0 0 0 0 0 0 0 0 0 0 0 0 0 0 0 0 0 0 0 0 0 0 0 0\n",
      " 0 0 0 0 0 0 0 0 0 0 0 0 0 0 0 0 0 0 0 0 0 0 0 0 0 0 0 0 0 0 0 0 0 0 0]\n",
      "1.0\n"
     ]
    }
   ],
   "source": []
  },
  {
   "cell_type": "code",
   "execution_count": 34,
   "id": "b8d3d71b",
   "metadata": {},
   "outputs": [
    {
     "name": "stdout",
     "output_type": "stream",
     "text": [
      "[0 0 0 0 0 0 0 0 0 0 0 0 0 0 0 0 0 0 0 0 0 0 0 0 0 0 0 0 0 0 0 0 0 0 0 0 0\n",
      " 0 0 0 0 0 0 0 0 0 0 0 0 0 0 0 0 0 0 0 0 0 0 0 0 0 0 0 0 1 0 0 0 0 0 0]\n",
      "0.9861111111111112\n"
     ]
    }
   ],
   "source": []
  },
  {
   "cell_type": "code",
   "execution_count": null,
   "id": "0c10f3a6",
   "metadata": {},
   "outputs": [],
   "source": []
  },
  {
   "cell_type": "code",
   "execution_count": null,
   "id": "3afe8258",
   "metadata": {},
   "outputs": [],
   "source": []
  },
  {
   "cell_type": "code",
   "execution_count": null,
   "id": "4c1e61c2",
   "metadata": {},
   "outputs": [],
   "source": []
  },
  {
   "cell_type": "code",
   "execution_count": null,
   "id": "72bb76b9",
   "metadata": {},
   "outputs": [],
   "source": []
  },
  {
   "cell_type": "code",
   "execution_count": null,
   "id": "3c16a1f4",
   "metadata": {},
   "outputs": [],
   "source": []
  },
  {
   "cell_type": "code",
   "execution_count": null,
   "id": "c58ec6cf",
   "metadata": {},
   "outputs": [],
   "source": []
  },
  {
   "cell_type": "code",
   "execution_count": null,
   "id": "1facd701",
   "metadata": {},
   "outputs": [],
   "source": []
  },
  {
   "cell_type": "code",
   "execution_count": null,
   "id": "cba3ad08",
   "metadata": {},
   "outputs": [],
   "source": []
  }
 ],
 "metadata": {
  "kernelspec": {
   "display_name": "Python 3 (ipykernel)",
   "language": "python",
   "name": "python3"
  },
  "language_info": {
   "codemirror_mode": {
    "name": "ipython",
    "version": 3
   },
   "file_extension": ".py",
   "mimetype": "text/x-python",
   "name": "python",
   "nbconvert_exporter": "python",
   "pygments_lexer": "ipython3",
   "version": "3.10.9"
  }
 },
 "nbformat": 4,
 "nbformat_minor": 5
}
